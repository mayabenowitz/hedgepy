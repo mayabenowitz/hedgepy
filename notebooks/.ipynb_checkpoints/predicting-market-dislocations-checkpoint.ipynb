{
 "cells": [
  {
   "cell_type": "code",
   "execution_count": 1,
   "metadata": {},
   "outputs": [
    {
     "data": {
      "text/html": [
       "<style>.container { width:100% !important; }</style>"
      ],
      "text/plain": [
       "<IPython.core.display.HTML object>"
      ]
     },
     "metadata": {},
     "output_type": "display_data"
    }
   ],
   "source": [
    "import sys\n",
    "import os\n",
    "sys.path.append(sys.path[0] + \"/..\")\n",
    "\n",
    "%load_ext autoreload\n",
    "%autoreload 2\n",
    "\n",
    "from IPython.core.display import display, HTML\n",
    "display(HTML(\"<style>.container { width:100% !important; }</style>\"))\n",
    "\n",
    "import pandas as pd\n",
    "import numpy as np\n",
    "import networkx as nx\n",
    "from sklearn.preprocessing import StandardScaler\n",
    "from sklearn.svm import OneClassSVM\n",
    "import math\n",
    "import matplotlib.pyplot as plt\n",
    "from matplotlib import gridspec\n",
    "import seaborn as sns\n",
    "from jupyterthemes import jtplot\n",
    "import datetime\n",
    "jtplot.style()"
   ]
  },
  {
   "cell_type": "code",
   "execution_count": 2,
   "metadata": {},
   "outputs": [
    {
     "data": {
      "text/html": [
       "<div>\n",
       "<style scoped>\n",
       "    .dataframe tbody tr th:only-of-type {\n",
       "        vertical-align: middle;\n",
       "    }\n",
       "\n",
       "    .dataframe tbody tr th {\n",
       "        vertical-align: top;\n",
       "    }\n",
       "\n",
       "    .dataframe thead th {\n",
       "        text-align: right;\n",
       "    }\n",
       "</style>\n",
       "<table border=\"1\" class=\"dataframe\">\n",
       "  <thead>\n",
       "    <tr style=\"text-align: right;\">\n",
       "      <th></th>\n",
       "      <th>open</th>\n",
       "      <th>high</th>\n",
       "      <th>low</th>\n",
       "      <th>close</th>\n",
       "      <th>name</th>\n",
       "    </tr>\n",
       "    <tr>\n",
       "      <th>date</th>\n",
       "      <th></th>\n",
       "      <th></th>\n",
       "      <th></th>\n",
       "      <th></th>\n",
       "      <th></th>\n",
       "    </tr>\n",
       "  </thead>\n",
       "  <tbody>\n",
       "    <tr>\n",
       "      <th>2000-05-11</th>\n",
       "      <td>101.37</td>\n",
       "      <td>104.25</td>\n",
       "      <td>99.00</td>\n",
       "      <td>102.81</td>\n",
       "      <td>AAPL</td>\n",
       "    </tr>\n",
       "    <tr>\n",
       "      <th>2000-05-12</th>\n",
       "      <td>106.00</td>\n",
       "      <td>110.50</td>\n",
       "      <td>104.77</td>\n",
       "      <td>107.62</td>\n",
       "      <td>AAPL</td>\n",
       "    </tr>\n",
       "    <tr>\n",
       "      <th>2000-05-15</th>\n",
       "      <td>108.06</td>\n",
       "      <td>108.06</td>\n",
       "      <td>100.12</td>\n",
       "      <td>101.00</td>\n",
       "      <td>AAPL</td>\n",
       "    </tr>\n",
       "    <tr>\n",
       "      <th>2000-05-16</th>\n",
       "      <td>104.52</td>\n",
       "      <td>109.06</td>\n",
       "      <td>102.75</td>\n",
       "      <td>105.69</td>\n",
       "      <td>AAPL</td>\n",
       "    </tr>\n",
       "    <tr>\n",
       "      <th>2000-05-17</th>\n",
       "      <td>103.62</td>\n",
       "      <td>103.69</td>\n",
       "      <td>100.37</td>\n",
       "      <td>101.37</td>\n",
       "      <td>AAPL</td>\n",
       "    </tr>\n",
       "  </tbody>\n",
       "</table>\n",
       "</div>"
      ],
      "text/plain": [
       "              open    high     low   close  name\n",
       "date                                            \n",
       "2000-05-11  101.37  104.25   99.00  102.81  AAPL\n",
       "2000-05-12  106.00  110.50  104.77  107.62  AAPL\n",
       "2000-05-15  108.06  108.06  100.12  101.00  AAPL\n",
       "2000-05-16  104.52  109.06  102.75  105.69  AAPL\n",
       "2000-05-17  103.62  103.69  100.37  101.37  AAPL"
      ]
     },
     "execution_count": 2,
     "metadata": {},
     "output_type": "execute_result"
    }
   ],
   "source": [
    "# read in Dow Jones stocks data\n",
    "df_dja = pd.read_csv('../experiments/data/interim/DJA-2000-2020-clean.csv')\n",
    "df_dja['date'] = pd.to_datetime(df_dja['date'])\n",
    "df_dja.set_index('date', inplace=True)\n",
    "df_dja = df_dja.drop('Unnamed: 0', axis=1)\n",
    "df_dja.head()"
   ]
  },
  {
   "cell_type": "code",
   "execution_count": 3,
   "metadata": {},
   "outputs": [
    {
     "name": "stdout",
     "output_type": "stream",
     "text": [
      "<class 'pandas.core.frame.DataFrame'>\n",
      "DatetimeIndex: 144270 entries, 2000-05-11 to 2020-05-13\n",
      "Data columns (total 5 columns):\n",
      "open     144270 non-null float64\n",
      "high     144270 non-null float64\n",
      "low      144270 non-null float64\n",
      "close    144270 non-null float64\n",
      "name     144270 non-null object\n",
      "dtypes: float64(4), object(1)\n",
      "memory usage: 6.6+ MB\n"
     ]
    }
   ],
   "source": [
    "df_dja.info()"
   ]
  }
 ],
 "metadata": {
  "kernelspec": {
   "display_name": "Python 3",
   "language": "python",
   "name": "python3"
  },
  "language_info": {
   "codemirror_mode": {
    "name": "ipython",
    "version": 3
   },
   "file_extension": ".py",
   "mimetype": "text/x-python",
   "name": "python",
   "nbconvert_exporter": "python",
   "pygments_lexer": "ipython3",
   "version": "3.7.3"
  }
 },
 "nbformat": 4,
 "nbformat_minor": 2
}
