{
 "cells": [
  {
   "cell_type": "markdown",
   "metadata": {},
   "source": [
    "# A Quantemental Approach to an Explainable Model: Predicting Financial Market Dislocations with Causal-Inference and Anonamly Detection\n",
    "<br/>\n",
    "\n",
    "Funds that fail to beat their benchmarks quickly go extinct. Generating alpha is an extraordinarily difficult task. One that is becoming increasingly difficult, a reality illustrated by deteriorating hedge fund returns. **Find alpha** or die is the stark new reality for every portfolio manager. At the same time, we are living through a technology driven data explosion. In the world’s 2.5 billion gigabytes of data, Wall Street sees its savior. The prevailing belief is that this data — and the predictive power it promises — is the most powerful alpha source to emerge in the last quarter century. The $3 trillion hedge fund industry is currently\n",
    "betting its future on it.\n",
    "\n",
    "<br/>\n",
    "This sentiment is especially true as markets enter a period of unprecedented volatility and uncertainty as the world grapples with the fallout of the pandemic, growing social and financial inequality, and now widespread civil unrest. A market once thought \"wacky\" has tipped into full-blown madness as the world seemingly unravels before our eyes. To this end, I am proposing a quantamental approach to help us navigate current and future crises. \n",
    "\n",
    "<br/>\n",
    "<br/>\n",
    "To be clear: models are not magic, they have their limitations and are only as good as their assumptions and the quality of the data they ingest. Every model, regardless of complexity, should under-go sufficient levels of scrutiny. Models may appear predictive when they are not and can lose predictive power as market conditions change. It is therefore in the firm's best interest for us to reserve belief in the model until it passes the appropriate checks-and-balances. In the remaining sections of this notebook, I do my best to take this \"black box\" and make it as transparent as possible without losing the forest for the trees (pun intended).\n",
    "<br/>\n",
    "<br/>\n",
    "\n",
    "## Motivation\n",
    "<br/>\n",
    "With oceans of information and only so much time to investigate fundamentals before pulling the trigger on an investment decision, where we look for opportunities and risk is of critical importance. It is becoming increasingly easy to lose the forest through the trees, especially on particularly demanding days. Running a lean shop has its disadvantages and this is one of them. While for the foreseeable future machines are unlikely to master the fundamentals, they are particularly good at sifting through large amounts of data and finding patterns otherwise invisible to the analyst. Models can provide clues the analyst can not see and the analyst can provide intuition and expertise the models can not comprehend. The idea is this: build a model that detects anomalous movements in pairwise correlations of market indices that most often precede market dislocations. The anomalies offer an executable signal that is ultimately at the discretion of individual desks to further investigate and act upon. In the following sections of this notebook, I walk the reader through the model, the assumptions I make, the promising preliminary results I obtain, and the conclusions I make.\n",
    "<br/>\n",
    "<br/>\n",
    "\n",
    "## Market Sociology\n",
    "<br/>\n",
    "Suppose we survey every investor on the planet. Assuming everyone has access to the same N pieces of information, we could ask: given the nth piece, are you a bear or a bull? Market behavior is often considered to reflect external economic news, though empirical evidence has challenged this connection [1]. Indeed, it is ultimately the investor's internal outlook and biases that determine how they answer the question. They can imagine a threat when there is none and ignore one when there is. What is more, investors can and often will, ignore accumulating evidence of an economic crisis — until they don't — and panic.\n",
    "<br/>\n",
    "<br/>\n",
    "In sociology [2–5], panic has been defined as a collective flight from a real or imagined threat. In economics, bank runs occur at least in part because of the risk to the individual from the bank run itself—and may be triggered by predisposing conditions, external (perhaps catastrophic) events, or even randomly [6, 7]. Although empirical studies of panic are difficult, efforts to distinguish endogenously (self-generated) and exogenous (externally-generated) market panics from oscillations of market indices have met with some success [8–10], though the conclusions have been debated [11–14]. The literature generally uses the volatility and the correlation between asset prices to characterize risk [15–19]. These measures are sensitive to the magnitude of price movement and therefore increase dramatically when there is a market crash.\n",
    "<br/>\n",
    "<br/>\n",
    "This proposal is not radically different from what has been achieved in the literature. By making precise measurements of correlations between asset prices and the volatility of those correlations, we can paint a more complete picture of the market and look for early warning signals of extreme volatility and market dislocations. The reality of this approach is that correlations are non-stationary (they are notoriously unstable) and are known to harbor non-linear effects [20]. As such, instead of using Pearson's correlation, I compute Székely's correlation (which measures both linear and non-linear associations in the data) over a rolling 90-day window between each pair of stocks in the DJA from 2000-2020."
   ]
  },
  {
   "cell_type": "code",
   "execution_count": 4,
   "metadata": {},
   "outputs": [
    {
     "name": "stdout",
     "output_type": "stream",
     "text": [
      "The autoreload extension is already loaded. To reload it, use:\n",
      "  %reload_ext autoreload\n"
     ]
    },
    {
     "data": {
      "text/html": [
       "<style>.container { width:80% !important; }</style>"
      ],
      "text/plain": [
       "<IPython.core.display.HTML object>"
      ]
     },
     "metadata": {},
     "output_type": "display_data"
    }
   ],
   "source": [
    "import sys\n",
    "import os\n",
    "import datetime\n",
    "from IPython.core.display import display, HTML\n",
    "\n",
    "import math\n",
    "import pandas as pd\n",
    "import numpy as np\n",
    "import networkx as nx\n",
    "from statsmodels.tsa.stattools import grangercausalitytests, coint, adfuller\n",
    "from sklearn.preprocessing import StandardScaler\n",
    "from sklearn.ensemble import IsolationForest\n",
    "from sklearn.svm import OneClassSVM\n",
    "import matplotlib.pyplot as plt\n",
    "from matplotlib import gridspec\n",
    "import seaborn as sns\n",
    "from jupyterthemes import jtplot\n",
    "\n",
    "# import custom library tools\n",
    "from hedgepy.core import build_series, build_network_time_series\n",
    "from hedgepy.utils import write_series, read_series, read_data\n",
    "from hedgepy.centrality import global_degree_centrality, global_eigencentrality\n",
    "\n",
    "# enable importing external modules\n",
    "sys.path.append(sys.path[0] + \"/..\")\n",
    "\n",
    "# autoreload magic\n",
    "%load_ext autoreload\n",
    "%autoreload 2\n",
    "\n",
    "display(HTML(\"<style>.container { width:80% !important; }</style>\"))\n",
    "jtplot.style()"
   ]
  },
  {
   "cell_type": "code",
   "execution_count": 3,
   "metadata": {},
   "outputs": [
    {
     "data": {
      "text/html": [
       "<div>\n",
       "<style scoped>\n",
       "    .dataframe tbody tr th:only-of-type {\n",
       "        vertical-align: middle;\n",
       "    }\n",
       "\n",
       "    .dataframe tbody tr th {\n",
       "        vertical-align: top;\n",
       "    }\n",
       "\n",
       "    .dataframe thead th {\n",
       "        text-align: right;\n",
       "    }\n",
       "</style>\n",
       "<table border=\"1\" class=\"dataframe\">\n",
       "  <thead>\n",
       "    <tr style=\"text-align: right;\">\n",
       "      <th></th>\n",
       "      <th>open</th>\n",
       "      <th>high</th>\n",
       "      <th>low</th>\n",
       "      <th>close</th>\n",
       "      <th>name</th>\n",
       "    </tr>\n",
       "    <tr>\n",
       "      <th>date</th>\n",
       "      <th></th>\n",
       "      <th></th>\n",
       "      <th></th>\n",
       "      <th></th>\n",
       "      <th></th>\n",
       "    </tr>\n",
       "  </thead>\n",
       "  <tbody>\n",
       "    <tr>\n",
       "      <th>2000-05-11</th>\n",
       "      <td>101.37</td>\n",
       "      <td>104.25</td>\n",
       "      <td>99.00</td>\n",
       "      <td>102.81</td>\n",
       "      <td>AAPL</td>\n",
       "    </tr>\n",
       "    <tr>\n",
       "      <th>2000-05-12</th>\n",
       "      <td>106.00</td>\n",
       "      <td>110.50</td>\n",
       "      <td>104.77</td>\n",
       "      <td>107.62</td>\n",
       "      <td>AAPL</td>\n",
       "    </tr>\n",
       "    <tr>\n",
       "      <th>2000-05-15</th>\n",
       "      <td>108.06</td>\n",
       "      <td>108.06</td>\n",
       "      <td>100.12</td>\n",
       "      <td>101.00</td>\n",
       "      <td>AAPL</td>\n",
       "    </tr>\n",
       "    <tr>\n",
       "      <th>2000-05-16</th>\n",
       "      <td>104.52</td>\n",
       "      <td>109.06</td>\n",
       "      <td>102.75</td>\n",
       "      <td>105.69</td>\n",
       "      <td>AAPL</td>\n",
       "    </tr>\n",
       "    <tr>\n",
       "      <th>2000-05-17</th>\n",
       "      <td>103.62</td>\n",
       "      <td>103.69</td>\n",
       "      <td>100.37</td>\n",
       "      <td>101.37</td>\n",
       "      <td>AAPL</td>\n",
       "    </tr>\n",
       "  </tbody>\n",
       "</table>\n",
       "</div>"
      ],
      "text/plain": [
       "              open    high     low   close  name\n",
       "date                                            \n",
       "2000-05-11  101.37  104.25   99.00  102.81  AAPL\n",
       "2000-05-12  106.00  110.50  104.77  107.62  AAPL\n",
       "2000-05-15  108.06  108.06  100.12  101.00  AAPL\n",
       "2000-05-16  104.52  109.06  102.75  105.69  AAPL\n",
       "2000-05-17  103.62  103.69  100.37  101.37  AAPL"
      ]
     },
     "execution_count": 3,
     "metadata": {},
     "output_type": "execute_result"
    }
   ],
   "source": [
    "df_dja = pd.read_csv('../experiments/data/interim/DJA-2000-2020-clean.csv')\n",
    "df_dja['date'] = pd.to_datetime(df_dja['date'])\n",
    "df_dja.set_index('date', inplace=True)\n",
    "df_dja = df_dja.drop('Unnamed: 0', axis=1)\n",
    "df_dja.head()"
   ]
  },
  {
   "cell_type": "code",
   "execution_count": null,
   "metadata": {},
   "outputs": [],
   "source": [
    "nx_ts_hard = build_network_time_series(dja_series, soft_threshold=False)"
   ]
  }
 ],
 "metadata": {
  "kernelspec": {
   "display_name": "Python 3",
   "language": "python",
   "name": "python3"
  },
  "language_info": {
   "codemirror_mode": {
    "name": "ipython",
    "version": 3
   },
   "file_extension": ".py",
   "mimetype": "text/x-python",
   "name": "python",
   "nbconvert_exporter": "python",
   "pygments_lexer": "ipython3",
   "version": "3.7.3"
  }
 },
 "nbformat": 4,
 "nbformat_minor": 2
}
