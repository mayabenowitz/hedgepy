{
 "cells": [
  {
   "cell_type": "code",
   "execution_count": null,
   "metadata": {},
   "outputs": [],
   "source": [
    "import sys\n",
    "import os\n",
    "sys.path.append(sys.path[0] + \"/..\")\n",
    "\n",
    "%load_ext autoreload\n",
    "%autoreload 2\n",
    "\n",
    "from IPython.core.display import display, HTML\n",
    "display(HTML(\"<style>.container { width:100% !important; }</style>\"))\n",
    "\n",
    "import pandas as pd\n",
    "import numpy as np\n",
    "import networkx as nx\n",
    "from sklearn.preprocessing import StandardScaler\n",
    "from sklearn.svm import OneClassSVM\n",
    "import math\n",
    "import matplotlib.pyplot as plt\n",
    "from matplotlib import gridspec\n",
    "import seaborn as sns\n",
    "from jupyterthemes import jtplot\n",
    "import datetime\n",
    "jtplot.style()"
   ]
  },
  {
   "cell_type": "code",
   "execution_count": null,
   "metadata": {},
   "outputs": [],
   "source": [
    "# directory = '../experiments/data/raw/DJA-stocks-adj'\n",
    "\n",
    "# dja = []\n",
    "# for filename in os.listdir(directory):\n",
    "#     if filename.endswith(\".csv\"):\n",
    "#         df = pd.read_csv(directory + \"/\" + filename)\n",
    "#         df.name = filename.split('-')[1]\n",
    "#         df['name'] = df.name\n",
    "#         df.columns = df.columns.str.replace('\\d+', '').str.replace('.', '').str.replace(' ', '_')\n",
    "#         dja.append(df)\n",
    "        \n",
    "# df_dja = pd.concat(dja, axis=0)\n",
    "# df_dja.columns = ['date', 'open', 'high', 'low', 'close', 'adjusted_close', 'volume', 'dividend_amount', 'split_coefficient', 'name']\n",
    "# # df_dja.head()\n",
    "# df_dja.to_csv('../experiments/data/raw/DJA-2000-2020-adj.csv')"
   ]
  },
  {
   "cell_type": "code",
   "execution_count": null,
   "metadata": {},
   "outputs": [],
   "source": [
    "# df_dja = df_dja.drop(['open', 'high', 'low', 'close','volume', 'dividend_amount', 'split_coefficient'], axis=1)\n",
    "# df_dja.to_csv('../experiments/data/interim/DJA-2000-2020-adj-clean.csv')"
   ]
  },
  {
   "cell_type": "code",
   "execution_count": null,
   "metadata": {},
   "outputs": [],
   "source": [
    "df_dja = pd.read_csv('../experiments/data/interim/DJA-2000-2020-adj-clean.csv')\n",
    "df_dja['date'] = pd.to_datetime(df_dja['date'])\n",
    "df_dja.set_index('date', inplace=True)\n",
    "df_dja = df_dja.drop('Unnamed: 0', axis=1)\n",
    "df_dja.head()"
   ]
  },
  {
   "cell_type": "code",
   "execution_count": null,
   "metadata": {},
   "outputs": [],
   "source": [
    "df_dja = df_dja[(df_dja['name'] != 'V') & (df_dja['name'] != 'DOW')]"
   ]
  },
  {
   "cell_type": "code",
   "execution_count": null,
   "metadata": {},
   "outputs": [],
   "source": [
    "%%time\n",
    "from hedgepy.core import build_series, build_network_time_series\n",
    "from hedgepy.utils import write_series, read_series, read_data\n",
    "\n",
    "# dja_series = build_series(df=df_dja, ticker_col_name='name', rolling_window=90, detrend=True, coalesce=False)"
   ]
  },
  {
   "cell_type": "code",
   "execution_count": null,
   "metadata": {},
   "outputs": [],
   "source": [
    "# write_series(dja_series, file_name='DJA-2000-2020-adj-rolling-90d-dcor-diff.json')\n",
    "dja_series = read_series('DJA-2000-2020-adj-rolling-90d-dcor-diff.json')"
   ]
  },
  {
   "cell_type": "code",
   "execution_count": null,
   "metadata": {},
   "outputs": [],
   "source": [
    "# not sure why first df is all nans... will have to loops over dict and drop if df contains any nans\n",
    "# dja_series.pop(pd.Timestamp('2000-09-18 00:00:00'))"
   ]
  },
  {
   "cell_type": "code",
   "execution_count": null,
   "metadata": {},
   "outputs": [],
   "source": [
    "df_dja_index = pd.read_csv('../experiments/data/raw/DJA-index/DJA-2000-2020-06-index.csv')\n",
    "df_dja_index['Date'] = pd.to_datetime(df_dja_index['Date'])\n",
    "df_dja_index.set_index('Date', inplace=True)\n",
    "df_dja_index.head()"
   ]
  },
  {
   "cell_type": "code",
   "execution_count": null,
   "metadata": {},
   "outputs": [],
   "source": [
    "from hedgepy.centrality import global_degree_centrality, global_eigencentrality\n",
    "\n",
    "# nx_ts_soft = build_network_time_series(dja_series, soft_threshold=True)"
   ]
  },
  {
   "cell_type": "code",
   "execution_count": null,
   "metadata": {},
   "outputs": [],
   "source": [
    "nx_ts_hard = build_network_time_series(dja_series, soft_threshold=False)"
   ]
  },
  {
   "cell_type": "code",
   "execution_count": null,
   "metadata": {},
   "outputs": [],
   "source": [
    "nx_ts_02 = build_network_time_series(dja_series, soft_threshold=False, corr_threshold=0.2)\n",
    "nx_ts_03 = build_network_time_series(dja_series, soft_threshold=False, corr_threshold=0.3)\n",
    "nx_ts_04 = build_network_time_series(dja_series, soft_threshold=False, corr_threshold=0.4)\n",
    "nx_ts_05 = build_network_time_series(dja_series, soft_threshold=False, corr_threshold=0.5)\n",
    "nx_ts_06 = build_network_time_series(dja_series, soft_threshold=False, corr_threshold=0.6)\n",
    "nx_ts_07 = build_network_time_series(dja_series, soft_threshold=False, corr_threshold=0.7)\n",
    "nx_ts_08 = build_network_time_series(dja_series, soft_threshold=False, corr_threshold=0.8)\n",
    "nx_ts_09 = build_network_time_series(dja_series, soft_threshold=False, corr_threshold=0.9)"
   ]
  },
  {
   "cell_type": "code",
   "execution_count": null,
   "metadata": {},
   "outputs": [],
   "source": [
    "nx_ts_list = [nx_ts_02, nx_ts_03, nx_ts_04, nx_ts_05, nx_ts_06, nx_ts_07, nx_ts_08, nx_ts_09]\n",
    "\n",
    "df_list = [global_degree_centrality(G) for G in nx_ts_list]\n",
    "df_dc = pd.concat(df_list, axis=1)"
   ]
  },
  {
   "cell_type": "code",
   "execution_count": null,
   "metadata": {},
   "outputs": [],
   "source": [
    "from hedgepy.centrality import global_clustering"
   ]
  },
  {
   "cell_type": "code",
   "execution_count": null,
   "metadata": {},
   "outputs": [],
   "source": [
    "df_ec = global_eigencentrality(nx_ts_hard)\n",
    "# df_ec = global_clustering(nx_ts_soft)"
   ]
  },
  {
   "cell_type": "code",
   "execution_count": null,
   "metadata": {},
   "outputs": [],
   "source": [
    "# df_ec.columns = ['global_eigencentrality']"
   ]
  },
  {
   "cell_type": "code",
   "execution_count": null,
   "metadata": {},
   "outputs": [],
   "source": [
    "col_names = [f'dcor > {i}' for i in [0.2,0.3,0.4,0.5,0.6,0.7,0.8,0.9]]\n",
    "df_dc.columns = col_names"
   ]
  },
  {
   "cell_type": "code",
   "execution_count": null,
   "metadata": {},
   "outputs": [],
   "source": [
    "from matplotlib.lines import Line2D\n",
    "colors = ['royalblue', 'limegreen', 'red']\n",
    "lines = [ Line2D([0], [0], color=c, linewidth=2) for c in colors ]\n",
    "labels = ['Fraction of DJA stocks with a pairwise correlation above 0.3', 'DJA price', 'Dislocations in 95% Drawdown Quantile']\n",
    "\n",
    "fig, ax = plt.subplots(figsize=(20,10))\n",
    "ax.plot(df_dc['dcor > 0.3'])\n",
    "[plt.axvspan(x1, x2, alpha=0.5, color='red') for x1, x2 in zip(dislocations['d_start'], dislocations['d_end'])]\n",
    "ax.set_ylabel('Average Degree Centrality')\n",
    "ax.set_title('Dow Jones vs. Component Correlations')\n",
    "plt.legend(lines, labels)\n",
    "ax2 = ax.twinx()\n",
    "ax2.plot(df_dja_index['Adj Close'], color='limegreen')\n",
    "ax2.set_ylabel('DIJA Index', fontsize=14)\n",
    "ax2.grid(False)\n",
    "# plt.savefig('../experiments/resources/dja-correlation-above-03-2000-2020', bbox_inches=\"tight\")"
   ]
  },
  {
   "cell_type": "code",
   "execution_count": null,
   "metadata": {},
   "outputs": [],
   "source": [
    "# explain social network analysis (eigencentrality as a measure of price power, equivalence to 'aggregated correlation')\n",
    "# produces predictive signal (p-value < 0.01) with a \"prediction horizion\" of 87 days\n",
    "\n",
    "from matplotlib.lines import Line2D\n",
    "colors = ['royalblue', 'limegreen', 'red']\n",
    "lines = [ Line2D([0], [0], color=c, linewidth=2) for c in colors ]\n",
    "labels = ['DJA Price Influence (Signal)', 'DJA Price']\n",
    "\n",
    "fig, ax = plt.subplots(figsize=(20,10))\n",
    "ax.plot(df_ec['global_eigencentrality'])\n",
    "# [plt.axvspan(x1, x2, alpha=0.5, color='red') for x1, x2 in zip(dislocations['d_start'], dislocations['d_end'])]\n",
    "ax.set_ylabel('Global Eigencentrality')\n",
    "ax.set_title('Dow Jones vs. Component Correlations')\n",
    "plt.legend(lines, labels)\n",
    "ax2 = ax.twinx()\n",
    "ax2.plot(df_dja_index['Adj Close'], color='limegreen')\n",
    "ax2.set_ylabel('DIJA Price (Log)', fontsize=14)\n",
    "ax2.set_yscale('log')\n",
    "ax2.grid(False)\n",
    "# plt.savefig('../experiments/resources/dja-eigencent-2000-2020', bbox_inches=\"tight\")"
   ]
  },
  {
   "cell_type": "code",
   "execution_count": null,
   "metadata": {},
   "outputs": [],
   "source": [
    "from matplotlib.lines import Line2D\n",
    "colors = ['royalblue', 'limegreen', 'red']\n",
    "lines = [ Line2D([0], [0], color=c, linewidth=2) for c in colors ]\n",
    "labels = ['Change in DJA Price Influence']\n",
    "labels2 = ['DJA Relative Price Influence (Signal)', 'DJA Price']\n",
    "gs = gridspec.GridSpec(2, 1, height_ratios=[1, 1]) \n",
    "\n",
    "fig, ax = plt.subplots(figsize=(20,10))\n",
    "plt.subplot(gs[0])\n",
    "plt.plot(df_ec['global_eigencentrality'])\n",
    "plt.title('DJA Price vs. DJA Relative Price Influence')\n",
    "plt.ylabel('Global Eigencentrality')\n",
    "plt.legend(lines, labels2)\n",
    "ax2 = plt.twinx()\n",
    "ax2.set_ylabel('DJA Price (Log)')\n",
    "plt.plot(df_dja_index['Adj Close'], color='limegreen')\n",
    "ax2.set_yscale('log')\n",
    "\n",
    "plt.subplot(gs[1])\n",
    "plt.plot(df_ec['global_eigencentrality'].pct_change())\n",
    "plt.ylabel('Day-Over-Day Change')\n",
    "ax3 = plt.twinx()\n",
    "ax3.set_ylabel('DJA Price (Log)')\n",
    "plt.plot(df_dja_index['Adj Close'], color='limegreen')\n",
    "ax3.set_yscale('log')\n",
    "# plt.savefig('../experiments/resources/dja-eigencent-dual-2000-2020-adj', bbox_inches=\"tight\")"
   ]
  },
  {
   "cell_type": "code",
   "execution_count": null,
   "metadata": {},
   "outputs": [],
   "source": [
    "df_gtest = pd.DataFrame({'DJA': df_dja_index['Adj Close'], 'eigen': df_ec['global_eigencentrality']})\n",
    "df_gtest.dropna(inplace=True)"
   ]
  },
  {
   "cell_type": "code",
   "execution_count": null,
   "metadata": {},
   "outputs": [],
   "source": [
    "# df_gtest2 = pd.DataFrame({'DJA': df_dja_index['Close'], 'deg_03': df_dc['dcor > 0.3']})\n",
    "# df_gtest2.dropna(inplace=True)"
   ]
  },
  {
   "cell_type": "code",
   "execution_count": null,
   "metadata": {},
   "outputs": [],
   "source": [
    "from statsmodels.tsa.stattools import grangercausalitytests, coint, adfuller\n",
    "gc = grangercausalitytests(df_gtest, 500, verbose=False)"
   ]
  },
  {
   "cell_type": "code",
   "execution_count": null,
   "metadata": {},
   "outputs": [],
   "source": [
    "# signal is stationary with p-value = 8.6 x 10^-5\n",
    "adfuller(df_ec['global_eigencentrality'])"
   ]
  },
  {
   "cell_type": "code",
   "execution_count": null,
   "metadata": {},
   "outputs": [],
   "source": [
    "aic_scores = []\n",
    "for lag in range(1, 500):\n",
    "    aic = gc[lag][1][0].aic\n",
    "    aic_scores.append(aic)"
   ]
  },
  {
   "cell_type": "code",
   "execution_count": null,
   "metadata": {},
   "outputs": [],
   "source": [
    "aic_df = pd.DataFrame({'lags': list(range(1,500)), 'aic_score': aic_scores})"
   ]
  },
  {
   "cell_type": "code",
   "execution_count": null,
   "metadata": {},
   "outputs": [],
   "source": [
    "p_values_lr = []\n",
    "p_values_ft = []\n",
    "p_values_chi = []\n",
    "p_values_ssrft = []\n",
    "for lag in range(1, 500):\n",
    "    lrtest = gc[lag][0]['lrtest'][1]\n",
    "    chi2test = gc[lag][0]['ssr_chi2test'][1]\n",
    "    params_ftest = gc[lag][0]['params_ftest'][1]\n",
    "    ssr_ftest = gc[lag][0]['ssr_ftest'][1]\n",
    "    p_values_lr.append(lrtest)\n",
    "    p_values_ft.append(params_ftest)\n",
    "    p_values_chi.append(chi2test)\n",
    "    p_values_ssrft.append(ssr_ftest)\n",
    "    \n",
    "gtest_df = pd.DataFrame({'lrtest': p_values_lr, 'params_ftest': p_values_ft, 'chi2test': p_values_chi, 'ssr_ftest': p_values_ssrft})\n",
    "gtest_df.head()"
   ]
  },
  {
   "cell_type": "code",
   "execution_count": null,
   "metadata": {},
   "outputs": [],
   "source": [
    "gtest_aic_df = gtest_df.merge(aic_df, right_index=True, left_index=True)\n",
    "gtest_aic_df.head()"
   ]
  },
  {
   "cell_type": "code",
   "execution_count": null,
   "metadata": {},
   "outputs": [],
   "source": [
    "from pylab import rcParams\n",
    "rcParams['figure.figsize'] = 20, 10\n",
    "plt.plot(p_values_lr)\n",
    "plt.plot(p_values_chi)\n",
    "plt.plot(p_values_ft)\n",
    "# plt.plot(p_values_ssrft)\n",
    "plt.title('Granger-Causality Test')\n",
    "plt.ylabel('p-values')\n",
    "plt.xlabel('Number of Lags')\n",
    "plt.axhline(0.01, color='white')\n",
    "\n",
    "colors = ['limegreen', 'royalblue', 'red', 'white']\n",
    "lines = [ Line2D([0], [0], color=c, linewidth=1) for c in colors ]\n",
    "labels = ['Chi-Squared Test: p = 3.08e-10', 'Log-Likelihood Ratio Test: p = 9.53e-9', 'F-test: p = 3e-6', 'p-value = 0.01']\n",
    "plt.legend(lines, labels)\n",
    "# plt.savefig('../experiments/resources/dja-granger-2000-2020-adj', bbox_inches=\"tight\")"
   ]
  },
  {
   "cell_type": "code",
   "execution_count": null,
   "metadata": {},
   "outputs": [],
   "source": [
    "#ftest aic\n",
    "sig_gtest = gtest_aic_df[(gtest_aic_df['params_ftest'] < 0.01)]\n",
    "sig_gtest[sig_gtest['aic_score'] == sig_gtest['aic_score'].min()]"
   ]
  },
  {
   "cell_type": "code",
   "execution_count": null,
   "metadata": {},
   "outputs": [],
   "source": [
    "sig_gtest = gtest_aic_df[(gtest_aic_df['ssr_ftest'] < 0.01)]\n",
    "sig_gtest[sig_gtest['aic_score'] == sig_gtest['aic_score'].min()]"
   ]
  },
  {
   "cell_type": "code",
   "execution_count": null,
   "metadata": {},
   "outputs": [],
   "source": [
    "#lrtest aic\n",
    "sig_gtest = gtest_aic_df[(gtest_aic_df['lrtest'] < 0.01)]\n",
    "sig_gtest[sig_gtest['aic_score'] == sig_gtest['aic_score'].min()]"
   ]
  },
  {
   "cell_type": "code",
   "execution_count": null,
   "metadata": {},
   "outputs": [],
   "source": [
    "# HOLY SHIT p < 10^-10\n",
    "#chi2test aic\n",
    "sig_gtest = gtest_aic_df[(gtest_aic_df['chi2test'] < 0.01)]\n",
    "sig_gtest[sig_gtest['aic_score'] == sig_gtest['aic_score'].min()]"
   ]
  },
  {
   "cell_type": "code",
   "execution_count": null,
   "metadata": {},
   "outputs": [],
   "source": [
    "fig, ax = plt.subplots(figsize=(20,10))\n",
    "for col in df_dc.columns:\n",
    "    ax.plot(df_dc[col], alpha=0.5)\n",
    "    \n",
    "ax.plot(df_dc['dcor > 0.8'], alpha=0.5, color='yellow')\n",
    "# [plt.axvspan(x1, x2, alpha=0.5, color='red', linestyle='dotted') for x1, x2 in zip(dislocations['d_start'], dislocations['d_end'])]\n",
    "\n",
    "ax.set_xlabel(\"Year\", fontsize=14)\n",
    "ax.set_ylabel(\"Global Degree\", fontsize=14)\n",
    "ax.set_title('Fraction of DIJA Stocks Above a Given Correlation')\n",
    "ax.grid(False)\n",
    "ax.annotate('> 0.2',\n",
    "            xy=(0.085, .918), xycoords='figure fraction',\n",
    "            horizontalalignment='left', verticalalignment='top',\n",
    "            fontsize=20)\n",
    "ax.annotate('> 0.3',\n",
    "            xy=(0.085, .55), xycoords='figure fraction',\n",
    "            horizontalalignment='left', verticalalignment='top',\n",
    "            fontsize=20)\n",
    "ax.annotate('> 0.4',\n",
    "            xy=(0.085, .40), xycoords='figure fraction',\n",
    "            horizontalalignment='left', verticalalignment='top',\n",
    "            fontsize=20)\n",
    "ax.annotate('> 0.5',\n",
    "            xy=(0.085, .21), xycoords='figure fraction',\n",
    "            horizontalalignment='left', verticalalignment='top',\n",
    "            fontsize=20)\n",
    "ax.annotate('> 0.6',\n",
    "            xy=(0.085, .18), xycoords='figure fraction',\n",
    "            horizontalalignment='left', verticalalignment='top',\n",
    "            fontsize=20)\n",
    "ax.annotate('> 0.7',\n",
    "            xy=(0.085, .15), xycoords='figure fraction',\n",
    "            horizontalalignment='left', verticalalignment='top',\n",
    "            fontsize=20)\n",
    "ax.annotate('> 0.8',\n",
    "            xy=(0.085, .12), xycoords='figure fraction',\n",
    "            horizontalalignment='left', verticalalignment='top',\n",
    "            fontsize=20)\n",
    "\n",
    "ax2 = ax.twinx()\n",
    "ax2.plot(df_dja_index['Close'], color='limegreen')\n",
    "ax2.set_ylabel('DIJA Index', fontsize=14)\n",
    "ax2.grid(False)\n",
    "# plt.savefig('../experiments/resources/dja-correlation-gradient-2000-2020', bbox_inches=\"tight\")"
   ]
  },
  {
   "cell_type": "code",
   "execution_count": null,
   "metadata": {},
   "outputs": [],
   "source": [
    "df_ec['pct_change'] = df_ec[['global_eigencentrality']].pct_change()\n",
    "df_ec.dropna(inplace=True)"
   ]
  },
  {
   "cell_type": "code",
   "execution_count": null,
   "metadata": {},
   "outputs": [],
   "source": [
    "def optimize_OneClassSVM(X, n):\n",
    "    print('searching for optimal hyperparameters...')\n",
    "    nu = np.linspace(start=1e-5, stop=1e-2, num=n)\n",
    "    gamma = np.linspace(start=1e-6, stop=1e-3, num=n)\n",
    "    opt_diff = 1.0\n",
    "    opt_nu = None\n",
    "    opt_gamma = None\n",
    "    for i in range(len(nu)):\n",
    "        for j in range(len(gamma)):\n",
    "            classifier = OneClassSVM(kernel=\"rbf\", nu=nu[i], gamma=gamma[j])\n",
    "            classifier.fit(X)\n",
    "            label = classifier.predict(X)\n",
    "            p = 1 - float(sum(label == 1.0)) / len(label)\n",
    "            diff = math.fabs(p - nu[i])\n",
    "            if diff < opt_diff:\n",
    "                opt_diff = diff\n",
    "                opt_nu = nu[i]\n",
    "                opt_gamma = gamma[j]\n",
    "    return opt_nu, opt_gamma"
   ]
  },
  {
   "cell_type": "code",
   "execution_count": null,
   "metadata": {},
   "outputs": [],
   "source": [
    "X_train = df_ec[['pct_change']]\n",
    "scaler = StandardScaler()\n",
    "np_scaled = scaler.fit_transform(X_train)\n",
    "X_train = pd.DataFrame(np_scaled).dropna()\n",
    "\n",
    "# opt_nu, opt_gamma = optimize_OneClassSVM(X_train, n=20)"
   ]
  },
  {
   "cell_type": "code",
   "execution_count": null,
   "metadata": {},
   "outputs": [],
   "source": [
    "print(opt_nu)\n",
    "print(opt_gamma)"
   ]
  },
  {
   "cell_type": "code",
   "execution_count": null,
   "metadata": {},
   "outputs": [],
   "source": [
    "from sklearn.ensemble import IsolationForest\n",
    "# model = OneClassSVM(nu=1/np.sqrt(len(df_ec)), kernel='rbf', gamma=1/len(df_ec))\n",
    "model = IsolationForest(contamination=0.0135, behaviour=\"new\")\n",
    "model.fit(X_train)\n",
    "anomalies = pd.Series(model.predict(X_train), index=df_ec.index)"
   ]
  },
  {
   "cell_type": "code",
   "execution_count": null,
   "metadata": {
    "jupyter": {
     "source_hidden": true
    }
   },
   "outputs": [],
   "source": [
    "# 1/(np.sqrt(len(df_ec)))"
   ]
  },
  {
   "cell_type": "code",
   "execution_count": null,
   "metadata": {},
   "outputs": [],
   "source": [
    "# np.power(1/len(df_ec), 0.45)"
   ]
  },
  {
   "cell_type": "code",
   "execution_count": null,
   "metadata": {},
   "outputs": [],
   "source": [
    "df_ec['anomalies'] = anomalies\n",
    "df_ec['DJA'] = df_dja_index['Adj Close']"
   ]
  },
  {
   "cell_type": "code",
   "execution_count": null,
   "metadata": {},
   "outputs": [],
   "source": [
    "a = df_ec.loc[(df_ec['anomalies'] == -1)]\n",
    "fig, ax = plt.subplots(figsize=(20,10))\n",
    "ax.plot(df_ec.index, df_ec['DJA'], alpha=0.6)\n",
    "\n",
    "b = a.loc[a['pct_change'] > 0]\n",
    "c = a.loc[a['pct_change'] < 0]\n",
    "\n",
    "bsize = np.abs([(i*10000)**1.5 for i in b['pct_change'].tolist()])\n",
    "csize = np.abs([(i*10000)**1.5 for i in c['pct_change'].tolist()])\n",
    "ax.scatter(df_ec['DJA'][(df_ec['anomalies']==-1) & (df_ec['pct_change'] > 0)].index, df_ec['DJA'][(df_ec['anomalies']==-1) & (df_ec['pct_change'] > 0)], label='Anomalous Increase', color='red')\n",
    "ax.scatter(df_ec['DJA'][(df_ec['anomalies']==-1) & (df_ec['pct_change'] < 0)].index, df_ec['DJA'][(df_ec['anomalies']==-1) & (df_ec['pct_change'] < 0)], label='Anomalous Decrease', color='orange')\n",
    "\n",
    "ax.set_title('Anomalous Movements in DJA Correlations')\n",
    "ax.set_ylabel('DJA Index')\n",
    "ax.legend()\n",
    "\n",
    "# plt.savefig('../experiments/resources/dja-anomalies-2000-2020')"
   ]
  },
  {
   "cell_type": "code",
   "execution_count": null,
   "metadata": {},
   "outputs": [],
   "source": [
    "a['2020']"
   ]
  },
  {
   "cell_type": "code",
   "execution_count": null,
   "metadata": {},
   "outputs": [],
   "source": [
    "len(a)"
   ]
  },
  {
   "cell_type": "code",
   "execution_count": null,
   "metadata": {},
   "outputs": [],
   "source": [
    "df_dja_index['returns'] = df_dja_index['Close'].pct_change()\n",
    "df_dja_index.dropna(inplace=True)"
   ]
  },
  {
   "cell_type": "code",
   "execution_count": null,
   "metadata": {},
   "outputs": [],
   "source": [
    "def get_drawdowns(price):\n",
    "    pmin_pmax = (price.diff(-1) > 0).astype(int).diff()\n",
    "    pmax = pmin_pmax[pmin_pmax == 1]\n",
    "    pmin = pmin_pmax[pmin_pmax == -1]\n",
    "    \n",
    "    if pmin.index[0] < pmax.index[0]:\n",
    "        pmin = pmin.drop(pmin.index[0])\n",
    "    if pmin.index[-1] < pmax.index[-1]:\n",
    "        pmax = pmax.drop(pmax.index[-1])\n",
    "\n",
    "    dd = ((np.array(price[pmin.index])) - np.array(price[pmax.index])) / np.array(price[pmax.index])\n",
    "    dur = [np.busday_count(p1.date(), p2.date()) for p1, p2 in zip(pmax.index, pmin.index)]\n",
    "    d = {'Date':pmax.index, 'drawdown':dd, 'd_start': pmax.index, 'd_end': pmin.index, \\\n",
    "             'duration': dur}    \n",
    "    \n",
    "    df_d = pd.DataFrame(d).set_index('Date')\n",
    "    df_d.index = pd.to_datetime(df_d.index, format='%Y/%m/%d')\n",
    "    df_d = df_d.sort_values(by='drawdown')\n",
    "    df_d['rank'] = list(range(1,df_d.shape[0]+1))\n",
    "    \n",
    "    return df_d"
   ]
  },
  {
   "cell_type": "code",
   "execution_count": null,
   "metadata": {},
   "outputs": [],
   "source": [
    "df_d = get_drawdowns(df_dja_index['Adj Close'])"
   ]
  },
  {
   "cell_type": "code",
   "execution_count": null,
   "metadata": {},
   "outputs": [],
   "source": [
    "df_d"
   ]
  },
  {
   "cell_type": "code",
   "execution_count": null,
   "metadata": {},
   "outputs": [],
   "source": [
    "from collections import defaultdict\n",
    "from pylab import rcParams\n",
    "rcParams['figure.figsize'] = 20, 10\n",
    "\n",
    "l_dict_dd = []\n",
    "\n",
    "max_dd = max(abs(df_d['drawdown']))\n",
    "m = round(max_dd+0.01,2)\n",
    "bins = np.linspace(-m, m, 800)\n",
    "d = {}\n",
    "for i in range(1, len(bins)+1):\n",
    "    d[i] = bins[i-1]\n",
    "disc = np.digitize(x=df_d['drawdown'], bins=bins)\n",
    "d1 = defaultdict(int)\n",
    "for i in disc:\n",
    "    d1[d[i]] += 1\n",
    "l_dict_dd.append(d1)\n",
    "plt.bar(x=df_d['duration'].value_counts().index, height=df_d['duration'].\\\n",
    "    value_counts()/df_d['duration'].shape[0], color='red', alpha=0.6)\n",
    "plt.xticks(df_d['duration'].value_counts().index)\n",
    "plt.title('DJA - Duration of drawdowns')\n",
    "plt.xlabel('Duration (number of days)')\n",
    "plt.grid()\n",
    "plt.show()"
   ]
  },
  {
   "cell_type": "code",
   "execution_count": null,
   "metadata": {},
   "outputs": [],
   "source": [
    "rcParams['figure.figsize'] = 16.5, 8.7\n",
    "gs = gridspec.GridSpec(2, 1, height_ratios=[1, 1]) \n",
    "for d1 in l_dict_dd:\n",
    "    plt.subplot(gs[0])\n",
    "    df_d_bins = pd.DataFrame(list(d1.items()))\n",
    "    df_d_bins.columns = ['drawdown', 'n']\n",
    "    plt.scatter(df_d_bins['drawdown'], df_d_bins['n'], s=40, color='red', alpha=0.6)\n",
    "    plt.yscale('log')\n",
    "    df_d_bins_reg = df_d_bins[df_d_bins['drawdown']>-0.08]\n",
    "#     m, c = np.polyfit(df_d_bins_reg['drawdown'], np.log(df_d_bins_reg['n']), 1)\n",
    "#     y_fit = np.exp(m*df_d_bins['drawdown'] + c)\n",
    "    plt.ylim(bottom=10**-.1)\n",
    "#     plt.plot(df_d_bins['drawdown'], y_fit, color='black', ls='dashed')\n",
    "    plt.title('Top: Frequency all drawdowns, Bottom: Rank ordering of all drawdowns')\n",
    "    plt.xlabel('Drawdown loss')\n",
    "    plt.ylabel('Freqyency (log)')\n",
    "    plt.grid(True)\n",
    "\n",
    "plt.subplot(gs[1])\n",
    "plt.scatter(df_d['rank'], abs(df_d['drawdown']), s=10*df_d['duration'], alpha=0.5,\\\n",
    "            color='red')\n",
    "plt.xscale('log')\n",
    "# plt.title('DJA - Rank ordering of all drawdowns')\n",
    "plt.xlabel('Drawdown rank (log)')\n",
    "plt.ylabel('Loss')\n",
    "plt.grid(True)\n",
    "plt.tight_layout()\n",
    "# plt.savefig('../experiments/resources/dja-ddstats-2000-2020', bbox_inches=\"tight\")"
   ]
  },
  {
   "cell_type": "code",
   "execution_count": null,
   "metadata": {},
   "outputs": [],
   "source": [
    "rcParams['figure.figsize'] = 20, 10\n",
    "plt.scatter(df_d['rank'], abs(df_d['drawdown']), s=10*df_d['duration'], alpha=0.5,\\\n",
    "            color='red')\n",
    "plt.xscale('log')\n",
    "plt.title('DJA - Rank ordering of all drawdowns')\n",
    "plt.xlabel('Drawdown rank (log)')\n",
    "plt.ylabel('Loss')\n",
    "plt.grid()\n",
    "# plt.show()\n",
    "# plt.savefig('../experiments/resources/dja-ddrank-2000-2020', bbox_inches=\"tight\")"
   ]
  },
  {
   "cell_type": "code",
   "execution_count": null,
   "metadata": {},
   "outputs": [],
   "source": [
    "def get_dislocations(df_d, q):\n",
    "    q = 1 - q\n",
    "    crashes = df_d[df_d['drawdown'] < df_d.quantile(q)[0]]\n",
    "    return crashes\n",
    "\n",
    "dislocations = get_dislocations(df_d, q=0.93)\n",
    "# dislocations.drop([pd.Timestamp('2000-10-04')], inplace=True)"
   ]
  },
  {
   "cell_type": "code",
   "execution_count": null,
   "metadata": {},
   "outputs": [],
   "source": [
    "dislocations.tail()"
   ]
  },
  {
   "cell_type": "code",
   "execution_count": null,
   "metadata": {},
   "outputs": [],
   "source": [
    "a = df_ec.loc[(df_ec['anomalies'] == -1)]\n",
    "rcParams['figure.figsize'] = 20,10\n",
    "\n",
    "gs = gridspec.GridSpec(2, 1, height_ratios=[2.5, 1]) \n",
    "plt.subplot(gs[0])\n",
    "plt.plot(df_ec.index, df_ec['DJA'], alpha=0.6)\n",
    "[plt.axvspan(x1, x2, alpha=0.5, color='red') for x1, x2 in zip(dislocations['d_start'], dislocations['d_end'])]\n",
    "plt.plot(df_d['drawdown'], color='red', marker='v', linestyle='')\n",
    "\n",
    "plt.ylabel('Price (log)')\n",
    "plt.title('Anomalous Movements in DJA Correlations vs. Drawdowns in the 93% Quantile')\n",
    "\n",
    "plt.scatter(df_ec['DJA'][(df_ec['anomalies']==-1)].index, df_ec['DJA'][(df_ec['anomalies']==-1)], label='Anomaly', color='orange')\n",
    "plt.legend()\n",
    "plt.yscale('log')\n",
    "plt.grid(False)\n",
    "\n",
    "plt.subplot(gs[1])\n",
    "plt.plot(df_d['drawdown'], color='red', marker='v', linestyle='')\n",
    "plt.axhline(dislocations['drawdown'].tolist()[-1], color='orange', linestyle='dashed')\n",
    "plt.ylabel('Drawdown %')\n",
    "\n",
    "# plt.savefig('../experiments/resources/dja-anomalies-drawdowns-2000-2020-93-adj', bbox_inches=\"tight\")"
   ]
  },
  {
   "cell_type": "code",
   "execution_count": null,
   "metadata": {},
   "outputs": [],
   "source": [
    "print('number of anomalies:', len(a))"
   ]
  },
  {
   "cell_type": "code",
   "execution_count": null,
   "metadata": {},
   "outputs": [],
   "source": [
    "a['2008']"
   ]
  },
  {
   "cell_type": "code",
   "execution_count": null,
   "metadata": {},
   "outputs": [],
   "source": [
    "dislocations['2008']"
   ]
  },
  {
   "cell_type": "code",
   "execution_count": null,
   "metadata": {},
   "outputs": [],
   "source": [
    "print('number of dislocations:', len(dislocations))"
   ]
  },
  {
   "cell_type": "code",
   "execution_count": null,
   "metadata": {},
   "outputs": [],
   "source": [
    "print('approximately', np.ceil(len(a)/20), 'anomalies a year, or once a quarter' )"
   ]
  },
  {
   "cell_type": "code",
   "execution_count": null,
   "metadata": {},
   "outputs": [],
   "source": [
    "# def dist_stats(anomalies, dislocations, pred_range):\n",
    "#     df_dist = pd.DataFrame(index=anomalies.index, columns=dislocations.index)\n",
    "    \n",
    "#     for i in anomalies.index:\n",
    "#         for j in dislocations.index:\n",
    "#             df_dist.at[i,j] = (i-j).days\n",
    "    \n",
    "#     hits = [df_dist[i].between(-pred_range, -1) for i in dislocations.index]\n",
    "#     df_hits = pd.concat(hits, axis=1)\n",
    "    \n",
    "#     disloc_dates = dislocations.index.tolist()\n",
    "#     tp_fn = [True in df_hits[i].tolist() for i in disloc_dates]\n",
    "\n",
    "#     df_tpfn = pd.DataFrame(zip(disloc_dates, tp_fn))\n",
    "#     df_tpfn.columns = ['drawdown', 'predicted']\n",
    "    \n",
    "#     tp = df_tpfn[df_tpfn['predicted'] == True]\n",
    "#     return dislocations.index[tp['drawdown']]\n",
    "\n",
    "# dist_stats(anomalies, get_dislocations(df_d, 0.95), 231)"
   ]
  },
  {
   "cell_type": "code",
   "execution_count": null,
   "metadata": {},
   "outputs": [],
   "source": [
    "def recall_score(anomalies, dislocations, pred_range, verbose=False):\n",
    "    df_dist = pd.DataFrame(index=anomalies.index, columns=dislocations.index)\n",
    "    \n",
    "    for i in anomalies.index:\n",
    "        for j in dislocations.index:\n",
    "            df_dist.at[i,j] = (i-j).days\n",
    "    \n",
    "    hits = [df_dist[i].between(-pred_range, -1) for i in dislocations.index]\n",
    "    df_hits = pd.concat(hits, axis=1)\n",
    "    \n",
    "    disloc_dates = dislocations.index.tolist()\n",
    "    tp_fn = [True in df_hits[i].tolist() for i in disloc_dates]\n",
    "\n",
    "    df_tpfn = pd.DataFrame(zip(disloc_dates, tp_fn))\n",
    "    df_tpfn.columns = ['drawdown', 'predicted']\n",
    "    \n",
    "    tp = len(df_tpfn[df_tpfn['predicted'] == True])\n",
    "    fn = len(df_tpfn[df_tpfn['predicted'] == False])\n",
    "    \n",
    "    recall = tp / (tp + fn)\n",
    "    if not verbose:\n",
    "        return recall, tp, fn\n",
    "    if verbose:\n",
    "        return print('Recall:', recall, '\\n\\n', df_tpfn)\n",
    "            \n",
    "recall_score(a, get_dislocations(df_d, 0.93), 251)"
   ]
  },
  {
   "cell_type": "code",
   "execution_count": null,
   "metadata": {},
   "outputs": [],
   "source": [
    "def precision_score(anomalies, dislocations, pred_range, verbose=False):\n",
    "    df_dist = pd.DataFrame(index=anomalies.index, columns=dislocations.index)\n",
    "    \n",
    "    for i in anomalies.index:\n",
    "        for j in dislocations.index:\n",
    "            df_dist.at[i,j] = (i-j).days\n",
    "    \n",
    "    hits = [df_dist[i].between(-pred_range, -1) for i in dislocations.index]\n",
    "    df_hits = pd.concat(hits, axis=1)\n",
    "    \n",
    "    anom_dates = anomalies.index.tolist()\n",
    "    disloc_dates = dislocations.index.tolist()\n",
    "    \n",
    "    fp = [True in df_hits.loc[i].tolist() for i in anom_dates]\n",
    "    tp = [True in df_hits[i].tolist() for i in disloc_dates]\n",
    "\n",
    "    df_fp = pd.DataFrame(zip(anom_dates, fp))\n",
    "    df_fp.columns = ['anomalies', 'ground']\n",
    "    \n",
    "    df_tpfn = pd.DataFrame(zip(disloc_dates, tp))\n",
    "    df_tpfn.columns = ['drawdown', 'predicted']\n",
    "\n",
    "    fp = len(df_fp[df_fp['ground'] == False])\n",
    "    tp = len(df_tpfn[df_tpfn['predicted'] == True])\n",
    "    \n",
    "    precision = tp / (tp + fp)\n",
    "    if not verbose:\n",
    "        return precision, tp, fp\n",
    "    if verbose:\n",
    "        return print('Precision:', precision, '\\n\\n', df_fp)\n",
    "    \n",
    "precision_score(a, get_dislocations(df_d, 0.93), 251)"
   ]
  },
  {
   "cell_type": "code",
   "execution_count": null,
   "metadata": {},
   "outputs": [],
   "source": [
    "(recall_score(a, get_dislocations(df_d, 0.995), 231)[0] + precision_score(a, get_dislocations(df_d, 0.995), 231)[0])/2"
   ]
  },
  {
   "cell_type": "code",
   "execution_count": null,
   "metadata": {},
   "outputs": [],
   "source": [
    "def f_score(precision, recall, beta):\n",
    "    f = (1 + beta**2) * ((precision*recall)/( (beta**2 * precision) + recall ))\n",
    "    return f\n",
    "\n",
    "f_score(precision_score(a, dislocations, 251)[0], recall_score(a, dislocations, 251)[0], beta=2)"
   ]
  },
  {
   "cell_type": "code",
   "execution_count": null,
   "metadata": {},
   "outputs": [],
   "source": [
    "tp = 78\n",
    "fn = 13\n",
    "fp = 4\n",
    "tn = len(df_ec) - (tp + fn + fp)"
   ]
  },
  {
   "cell_type": "code",
   "execution_count": null,
   "metadata": {},
   "outputs": [],
   "source": [
    "def matthews_corrcoeff(tp, fn, fp, tn):\n",
    "    n = tp*tn - fp*fn\n",
    "    d = np.sqrt((tp+fp)*(tp+fn)*(tn+fp)*(tn+fn))\n",
    "    return n/d\n",
    "\n",
    "matthews_corrcoeff(tp,fn,fp,tn)"
   ]
  },
  {
   "cell_type": "code",
   "execution_count": null,
   "metadata": {},
   "outputs": [],
   "source": [
    "def balanced_accuracy(precision, recall):\n",
    "    return 0.5*(precision + recall)\n",
    "\n",
    "balanced_accuracy(precision_score(a, dislocations, 251)[0], recall_score(a, dislocations, 251)[0])"
   ]
  },
  {
   "cell_type": "code",
   "execution_count": null,
   "metadata": {},
   "outputs": [],
   "source": [
    "df_eval = pd.DataFrame({\n",
    "    'Recall': [\n",
    "        recall_score(a, get_dislocations(df_d, x), 251, verbose=False)[0] \n",
    "        for x in np.arange(0.90, 1, 0.005)\n",
    "    ],\n",
    "    'F-beta score (beta=2)': [\n",
    "        f_score(precision_score(a, get_dislocations(df_d, x), 251)[0], recall_score(a, get_dislocations(df_d, x), 251)[0], beta=2)\n",
    "        for x in np.arange(0.90, 1, 0.005) \n",
    "    ],\n",
    "    'Balanced Accuracy': [\n",
    "        balanced_accuracy(recall_score(a, get_dislocations(df_d, x), 251, verbose=False)[0], precision_score(a, get_dislocations(df_d, x), 251, verbose=False)[0])\n",
    "        for x in np.arange(0.90, 1, 0.005)\n",
    "    ],\n",
    "    'Precision': [\n",
    "        precision_score(a, get_dislocations(df_d, x), 251, verbose=False)[0]\n",
    "        for x in np.arange(0.90, 1, 0.005)\n",
    "    ],\n",
    "    'Quantile of Drawdowns': [str(round(x*100,2)) + '%' for x in np.arange(0.90, 1, 0.005).tolist()]\n",
    "})"
   ]
  },
  {
   "cell_type": "code",
   "execution_count": null,
   "metadata": {},
   "outputs": [],
   "source": [
    "df_eval = df_eval.melt(id_vars='Quantile of Drawdowns')\n",
    "df_eval.columns = ['Quantile of Drawdowns', 'Statistic', 'Score']"
   ]
  },
  {
   "cell_type": "code",
   "execution_count": null,
   "metadata": {},
   "outputs": [],
   "source": [
    "df_eval[df_eval['Statistic'] == 'Balanced Accuracy']"
   ]
  },
  {
   "cell_type": "code",
   "execution_count": null,
   "metadata": {},
   "outputs": [],
   "source": [
    "df_eval[df_eval['Statistic'] == 'Recall']"
   ]
  },
  {
   "cell_type": "code",
   "execution_count": null,
   "metadata": {},
   "outputs": [],
   "source": [
    "df_eval[df_eval['Statistic'] == 'Precision']"
   ]
  },
  {
   "cell_type": "code",
   "execution_count": null,
   "metadata": {},
   "outputs": [],
   "source": [
    "sns.pointplot(y='Score', x='Quantile of Drawdowns', hue='Statistic', data=df_eval)\n",
    "# g.fig.set_figwidth(20)\n",
    "# g.fig.set_figheight(10)\n",
    "plt.title('Isolation Forest Model Performance')\n",
    "plt.xlabel('Quantile of Drawdowns')\n",
    "plt.grid(True)\n",
    "# plt.savefig('../experiments/resources/dcor-eigencentrality-iforest-perf-2000-2020-adj', bbox_inches=\"tight\")"
   ]
  }
 ],
 "metadata": {
  "kernelspec": {
   "display_name": "Python 3",
   "language": "python",
   "name": "python3"
  },
  "language_info": {
   "codemirror_mode": {
    "name": "ipython",
    "version": 3
   },
   "file_extension": ".py",
   "mimetype": "text/x-python",
   "name": "python",
   "nbconvert_exporter": "python",
   "pygments_lexer": "ipython3",
   "version": "3.7.3"
  }
 },
 "nbformat": 4,
 "nbformat_minor": 4
}
