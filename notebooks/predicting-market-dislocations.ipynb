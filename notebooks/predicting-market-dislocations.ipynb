{
 "cells": [
  {
   "cell_type": "code",
   "execution_count": 9,
   "metadata": {},
   "outputs": [
    {
     "name": "stdout",
     "output_type": "stream",
     "text": [
      "The autoreload extension is already loaded. To reload it, use:\n",
      "  %reload_ext autoreload\n"
     ]
    },
    {
     "data": {
      "text/html": [
       "<style>.container { width:100% !important; }</style>"
      ],
      "text/plain": [
       "<IPython.core.display.HTML object>"
      ]
     },
     "metadata": {},
     "output_type": "display_data"
    }
   ],
   "source": [
    "import sys\n",
    "import os\n",
    "sys.path.append(sys.path[0] + \"/..\")\n",
    "\n",
    "%load_ext autoreload\n",
    "%autoreload 2\n",
    "\n",
    "from IPython.core.display import display, HTML\n",
    "display(HTML(\"<style>.container { width:100% !important; }</style>\"))\n",
    "\n",
    "import pandas as pd\n",
    "import numpy as np\n",
    "import networkx as nx\n",
    "from sklearn.preprocessing import StandardScaler\n",
    "from sklearn.svm import OneClassSVM\n",
    "import math\n",
    "import matplotlib.pyplot as plt\n",
    "from matplotlib import gridspec\n",
    "import seaborn as sns\n",
    "from jupyterthemes import jtplot\n",
    "import datetime\n",
    "jtplot.style()\n",
    "\n",
    "from hedgepy.core import build_series, build_network_time_series\n",
    "from hedgepy.utils import write_series, read_series, read_data"
   ]
  },
  {
   "cell_type": "code",
   "execution_count": 2,
   "metadata": {},
   "outputs": [
    {
     "data": {
      "text/html": [
       "<div>\n",
       "<style scoped>\n",
       "    .dataframe tbody tr th:only-of-type {\n",
       "        vertical-align: middle;\n",
       "    }\n",
       "\n",
       "    .dataframe tbody tr th {\n",
       "        vertical-align: top;\n",
       "    }\n",
       "\n",
       "    .dataframe thead th {\n",
       "        text-align: right;\n",
       "    }\n",
       "</style>\n",
       "<table border=\"1\" class=\"dataframe\">\n",
       "  <thead>\n",
       "    <tr style=\"text-align: right;\">\n",
       "      <th></th>\n",
       "      <th>open</th>\n",
       "      <th>high</th>\n",
       "      <th>low</th>\n",
       "      <th>close</th>\n",
       "      <th>name</th>\n",
       "    </tr>\n",
       "    <tr>\n",
       "      <th>date</th>\n",
       "      <th></th>\n",
       "      <th></th>\n",
       "      <th></th>\n",
       "      <th></th>\n",
       "      <th></th>\n",
       "    </tr>\n",
       "  </thead>\n",
       "  <tbody>\n",
       "    <tr>\n",
       "      <th>2000-05-11</th>\n",
       "      <td>101.37</td>\n",
       "      <td>104.25</td>\n",
       "      <td>99.00</td>\n",
       "      <td>102.81</td>\n",
       "      <td>AAPL</td>\n",
       "    </tr>\n",
       "    <tr>\n",
       "      <th>2000-05-12</th>\n",
       "      <td>106.00</td>\n",
       "      <td>110.50</td>\n",
       "      <td>104.77</td>\n",
       "      <td>107.62</td>\n",
       "      <td>AAPL</td>\n",
       "    </tr>\n",
       "    <tr>\n",
       "      <th>2000-05-15</th>\n",
       "      <td>108.06</td>\n",
       "      <td>108.06</td>\n",
       "      <td>100.12</td>\n",
       "      <td>101.00</td>\n",
       "      <td>AAPL</td>\n",
       "    </tr>\n",
       "    <tr>\n",
       "      <th>2000-05-16</th>\n",
       "      <td>104.52</td>\n",
       "      <td>109.06</td>\n",
       "      <td>102.75</td>\n",
       "      <td>105.69</td>\n",
       "      <td>AAPL</td>\n",
       "    </tr>\n",
       "    <tr>\n",
       "      <th>2000-05-17</th>\n",
       "      <td>103.62</td>\n",
       "      <td>103.69</td>\n",
       "      <td>100.37</td>\n",
       "      <td>101.37</td>\n",
       "      <td>AAPL</td>\n",
       "    </tr>\n",
       "  </tbody>\n",
       "</table>\n",
       "</div>"
      ],
      "text/plain": [
       "              open    high     low   close  name\n",
       "date                                            \n",
       "2000-05-11  101.37  104.25   99.00  102.81  AAPL\n",
       "2000-05-12  106.00  110.50  104.77  107.62  AAPL\n",
       "2000-05-15  108.06  108.06  100.12  101.00  AAPL\n",
       "2000-05-16  104.52  109.06  102.75  105.69  AAPL\n",
       "2000-05-17  103.62  103.69  100.37  101.37  AAPL"
      ]
     },
     "execution_count": 2,
     "metadata": {},
     "output_type": "execute_result"
    }
   ],
   "source": [
    "# read in Dow Jones stocks data\n",
    "df_dja = pd.read_csv('../experiments/data/interim/DJA-2000-2020-clean.csv')\n",
    "df_dja['date'] = pd.to_datetime(df_dja['date'])\n",
    "df_dja.set_index('date', inplace=True)\n",
    "df_dja = df_dja.drop('Unnamed: 0', axis=1)\n",
    "df_dja.head()"
   ]
  },
  {
   "cell_type": "code",
   "execution_count": 13,
   "metadata": {},
   "outputs": [
    {
     "name": "stdout",
     "output_type": "stream",
     "text": [
      "- MCDMMM: No data found, symbol may be delisted\n"
     ]
    }
   ],
   "source": [
    "import yfinance as yf\n",
    "dja_ticker_lst = [\n",
    "    'aapl', \n",
    "    'axp', \n",
    "    'ba', \n",
    "    'cat', \n",
    "    'csco', \n",
    "    'cvx', \n",
    "    'dis',\n",
    "    'dow', \n",
    "    'gs', \n",
    "    'hd', \n",
    "    'ibm', \n",
    "    'intc', \n",
    "    'jnj', \n",
    "    'jpm', \n",
    "    'ko', \n",
    "    'mcd',\n",
    "    'mmm', \n",
    "    'mrk', \n",
    "    'msft', \n",
    "    'nke', \n",
    "    'pfe', \n",
    "    'pg', \n",
    "    'rtx', \n",
    "    'trv', \n",
    "    'unh', \n",
    "    'v', \n",
    "    'vz', \n",
    "    'wba', \n",
    "    'wmt', \n",
    "    'xom'\n",
    "]\n",
    "\n",
    "tickers = [yf.Ticker(ticker).history() for ticker in dja_ticker_lst]"
   ]
  },
  {
   "cell_type": "code",
   "execution_count": 15,
   "metadata": {},
   "outputs": [],
   "source": [
    "t = yf.Ticker('aapl').history(start=\"2017-01-01\", end=\"2017-04-30\")"
   ]
  },
  {
   "cell_type": "code",
   "execution_count": 7,
   "metadata": {},
   "outputs": [
    {
     "name": "stdout",
     "output_type": "stream",
     "text": [
      "5032 AAPL\n",
      "5033 AXP\n",
      "5033 BA\n",
      "5033 CAT\n",
      "5032 CSCO\n",
      "5033 CVX\n",
      "5033 DIS\n",
      "291 DOW\n",
      "5033 GS\n",
      "5033 HD\n",
      "5033 IBM\n",
      "5032 INTC\n",
      "5033 JNJ\n",
      "5033 JPM\n",
      "5033 KO\n",
      "5033 MCD\n",
      "5033 MMM\n",
      "5033 MRK\n",
      "5032 MSFT\n",
      "5033 NKE\n",
      "5033 PFE\n",
      "5033 PG\n",
      "5033 RTX\n",
      "5033 TRV\n",
      "5033 UNH\n",
      "3060 V\n",
      "5033 VZ\n",
      "5032 WBA\n",
      "5033 WMT\n",
      "5033 XOM\n"
     ]
    }
   ],
   "source": [
    "# check # of data points for each stock\n",
    "stocks = df_dja['name'].unique()\n",
    "for i in stocks:\n",
    "    print(len(df_dja[df_dja['name'] == i]), i)"
   ]
  },
  {
   "cell_type": "code",
   "execution_count": 8,
   "metadata": {},
   "outputs": [],
   "source": [
    "# remove Dow and Verizon\n",
    "df_dja = df_dja[(df_dja['name'] != 'V') & (df_dja['name'] != 'DOW')]"
   ]
  },
  {
   "cell_type": "code",
   "execution_count": 23,
   "metadata": {},
   "outputs": [
    {
     "name": "stdout",
     "output_type": "stream",
     "text": [
      "Looking in indexes: https://bloomberg.bintray.com/pip/simple\n",
      "Requirement already satisfied: blpapi in c:\\users\\maya.benowitz\\appdata\\local\\continuum\\anaconda3\\lib\\site-packages (3.14.0)\n"
     ]
    }
   ],
   "source": [
    "!python -m pip install --index-url=https://bloomberg.bintray.com/pip/simple blpapi"
   ]
  },
  {
   "cell_type": "code",
   "execution_count": 25,
   "metadata": {},
   "outputs": [
    {
     "ename": "ImportError",
     "evalue": "\n---------------------------- ENVIRONMENT -----------------------------\nPlatform: Windows-10-10.0.18362-SP0\nArchitecture: ('64bit', 'WindowsPE')\nPython: 3.7.3 (default, Apr 24 2019, 15:29:51) [MSC v.1915 64 bit (AMD64)]\nPython implementation: CPython\n\nblpapi 64-bit will be loaded from: \"C:\\blp\\DAPI\\blpapi3_64.dll\"\nblpapi 32-bit will be loaded from: \"C:\\blp\\DAPI\\blpapi3_32.dll\"\nSystem PATH: (* marks locations where blpapi was found)\n    \"C:\\Users\\maya.benowitz\\AppData\\Local\\Continuum\\anaconda3\"\n    \"C:\\Users\\maya.benowitz\\AppData\\Local\\Continuum\\anaconda3\\Library\\mingw-w64\\bin\"\n    \"C:\\Users\\maya.benowitz\\AppData\\Local\\Continuum\\anaconda3\\Library\\usr\\bin\"\n    \"C:\\Users\\maya.benowitz\\AppData\\Local\\Continuum\\anaconda3\\Library\\bin\"\n    \"C:\\Users\\maya.benowitz\\AppData\\Local\\Continuum\\anaconda3\\Scripts\"\n    \"C:\\WINDOWS\\system32\"\n    \"C:\\WINDOWS\"\n    \"C:\\WINDOWS\\System32\\Wbem\"\n    \"C:\\WINDOWS\\System32\\WindowsPowerShell\\v1.0\\\"\n    \"C:\\Program Files\\Docker\\Docker\\resources\\bin\"\n    \"C:\\ProgramData\\DockerDesktop\\version-bin\"\n    \"C:\\Users\\maya.benowitz\\AppData\\Local\\Microsoft\\WindowsApps\"\n  * \"C:\\blp\\DAPI\"\n    \"C:\\blp\\DAPI\\DDE\"\n    \"C:\\Users\\maya.benowitz\\AppData\\Local\\atom\\bin\"\n\nblpapi package at: \"C:\\Users\\maya.benowitz\\AppData\\Local\\Continuum\\anaconda3\\lib\\site-packages\"\n\nCurrent directory: \"C:\\Users\\maya.benowitz\\Documents\\projects\\hedgepy\\notebooks\"\n\n----------------------------------------------------------------------\nNo module named '_internals'\n\nMismatch between C++ and Python SDK libraries.\n\nPython SDK version    3.14.0\nFound C++ SDK version 3.12.3.1\n\nDownload and install the latest C++ SDK from:\n\n    http://www.bloomberg.com/professional/api-library\n\nIf a recent version of the C++ SDK is already installed, please ensure that the\npath to the library is added to PATH before entering the interpreter.\n\n\n",
     "output_type": "error",
     "traceback": [
      "\u001b[1;31m---------------------------------------------------------------------------\u001b[0m",
      "\u001b[1;31mImportError\u001b[0m                               Traceback (most recent call last)",
      "\u001b[1;32m~\\AppData\\Local\\Continuum\\anaconda3\\lib\\site-packages\\blpapi\\internals.py\u001b[0m in \u001b[0;36mswig_import_helper\u001b[1;34m()\u001b[0m\n\u001b[0;32m     38\u001b[0m         \u001b[1;32mtry\u001b[0m\u001b[1;33m:\u001b[0m\u001b[1;33m\u001b[0m\u001b[1;33m\u001b[0m\u001b[0m\n\u001b[1;32m---> 39\u001b[1;33m             \u001b[1;32mreturn\u001b[0m \u001b[0mimportlib\u001b[0m\u001b[1;33m.\u001b[0m\u001b[0mimport_module\u001b[0m\u001b[1;33m(\u001b[0m\u001b[0mmname\u001b[0m\u001b[1;33m)\u001b[0m\u001b[1;33m\u001b[0m\u001b[1;33m\u001b[0m\u001b[0m\n\u001b[0m\u001b[0;32m     40\u001b[0m         \u001b[1;32mexcept\u001b[0m \u001b[0mImportError\u001b[0m\u001b[1;33m:\u001b[0m\u001b[1;33m\u001b[0m\u001b[1;33m\u001b[0m\u001b[0m\n",
      "\u001b[1;32m~\\AppData\\Local\\Continuum\\anaconda3\\lib\\importlib\\__init__.py\u001b[0m in \u001b[0;36mimport_module\u001b[1;34m(name, package)\u001b[0m\n\u001b[0;32m    126\u001b[0m             \u001b[0mlevel\u001b[0m \u001b[1;33m+=\u001b[0m \u001b[1;36m1\u001b[0m\u001b[1;33m\u001b[0m\u001b[1;33m\u001b[0m\u001b[0m\n\u001b[1;32m--> 127\u001b[1;33m     \u001b[1;32mreturn\u001b[0m \u001b[0m_bootstrap\u001b[0m\u001b[1;33m.\u001b[0m\u001b[0m_gcd_import\u001b[0m\u001b[1;33m(\u001b[0m\u001b[0mname\u001b[0m\u001b[1;33m[\u001b[0m\u001b[0mlevel\u001b[0m\u001b[1;33m:\u001b[0m\u001b[1;33m]\u001b[0m\u001b[1;33m,\u001b[0m \u001b[0mpackage\u001b[0m\u001b[1;33m,\u001b[0m \u001b[0mlevel\u001b[0m\u001b[1;33m)\u001b[0m\u001b[1;33m\u001b[0m\u001b[1;33m\u001b[0m\u001b[0m\n\u001b[0m\u001b[0;32m    128\u001b[0m \u001b[1;33m\u001b[0m\u001b[0m\n",
      "\u001b[1;32m~\\AppData\\Local\\Continuum\\anaconda3\\lib\\importlib\\_bootstrap.py\u001b[0m in \u001b[0;36m_gcd_import\u001b[1;34m(name, package, level)\u001b[0m\n",
      "\u001b[1;32m~\\AppData\\Local\\Continuum\\anaconda3\\lib\\importlib\\_bootstrap.py\u001b[0m in \u001b[0;36m_find_and_load\u001b[1;34m(name, import_)\u001b[0m\n",
      "\u001b[1;32m~\\AppData\\Local\\Continuum\\anaconda3\\lib\\importlib\\_bootstrap.py\u001b[0m in \u001b[0;36m_find_and_load_unlocked\u001b[1;34m(name, import_)\u001b[0m\n",
      "\u001b[1;32m~\\AppData\\Local\\Continuum\\anaconda3\\lib\\importlib\\_bootstrap.py\u001b[0m in \u001b[0;36m_load_unlocked\u001b[1;34m(spec)\u001b[0m\n",
      "\u001b[1;32m~\\AppData\\Local\\Continuum\\anaconda3\\lib\\importlib\\_bootstrap.py\u001b[0m in \u001b[0;36mmodule_from_spec\u001b[1;34m(spec)\u001b[0m\n",
      "\u001b[1;32m~\\AppData\\Local\\Continuum\\anaconda3\\lib\\importlib\\_bootstrap_external.py\u001b[0m in \u001b[0;36mcreate_module\u001b[1;34m(self, spec)\u001b[0m\n",
      "\u001b[1;32m~\\AppData\\Local\\Continuum\\anaconda3\\lib\\importlib\\_bootstrap.py\u001b[0m in \u001b[0;36m_call_with_frames_removed\u001b[1;34m(f, *args, **kwds)\u001b[0m\n",
      "\u001b[1;31mImportError\u001b[0m: DLL load failed: The specified procedure could not be found.",
      "\nDuring handling of the above exception, another exception occurred:\n",
      "\u001b[1;31mModuleNotFoundError\u001b[0m                       Traceback (most recent call last)",
      "\u001b[1;32m~\\AppData\\Local\\Continuum\\anaconda3\\lib\\site-packages\\blpapi\\__init__.py\u001b[0m in \u001b[0;36m<module>\u001b[1;34m\u001b[0m\n\u001b[0;32m      5\u001b[0m \u001b[1;32mtry\u001b[0m\u001b[1;33m:\u001b[0m\u001b[1;33m\u001b[0m\u001b[1;33m\u001b[0m\u001b[0m\n\u001b[1;32m----> 6\u001b[1;33m     \u001b[1;32mfrom\u001b[0m \u001b[1;33m.\u001b[0m\u001b[0minternals\u001b[0m \u001b[1;32mimport\u001b[0m \u001b[0mCorrelationId\u001b[0m\u001b[1;33m\u001b[0m\u001b[1;33m\u001b[0m\u001b[0m\n\u001b[0m\u001b[0;32m      7\u001b[0m \u001b[1;32mexcept\u001b[0m \u001b[0mImportError\u001b[0m \u001b[1;32mas\u001b[0m \u001b[0merror\u001b[0m\u001b[1;33m:\u001b[0m\u001b[1;33m\u001b[0m\u001b[1;33m\u001b[0m\u001b[0m\n",
      "\u001b[1;32m~\\AppData\\Local\\Continuum\\anaconda3\\lib\\site-packages\\blpapi\\internals.py\u001b[0m in \u001b[0;36m<module>\u001b[1;34m\u001b[0m\n\u001b[0;32m     41\u001b[0m             \u001b[1;32mreturn\u001b[0m \u001b[0mimportlib\u001b[0m\u001b[1;33m.\u001b[0m\u001b[0mimport_module\u001b[0m\u001b[1;33m(\u001b[0m\u001b[1;34m'_internals'\u001b[0m\u001b[1;33m)\u001b[0m\u001b[1;33m\u001b[0m\u001b[1;33m\u001b[0m\u001b[0m\n\u001b[1;32m---> 42\u001b[1;33m     \u001b[0m_internals\u001b[0m \u001b[1;33m=\u001b[0m \u001b[0mswig_import_helper\u001b[0m\u001b[1;33m(\u001b[0m\u001b[1;33m)\u001b[0m\u001b[1;33m\u001b[0m\u001b[1;33m\u001b[0m\u001b[0m\n\u001b[0m\u001b[0;32m     43\u001b[0m     \u001b[1;32mdel\u001b[0m \u001b[0mswig_import_helper\u001b[0m\u001b[1;33m\u001b[0m\u001b[1;33m\u001b[0m\u001b[0m\n",
      "\u001b[1;32m~\\AppData\\Local\\Continuum\\anaconda3\\lib\\site-packages\\blpapi\\internals.py\u001b[0m in \u001b[0;36mswig_import_helper\u001b[1;34m()\u001b[0m\n\u001b[0;32m     40\u001b[0m         \u001b[1;32mexcept\u001b[0m \u001b[0mImportError\u001b[0m\u001b[1;33m:\u001b[0m\u001b[1;33m\u001b[0m\u001b[1;33m\u001b[0m\u001b[0m\n\u001b[1;32m---> 41\u001b[1;33m             \u001b[1;32mreturn\u001b[0m \u001b[0mimportlib\u001b[0m\u001b[1;33m.\u001b[0m\u001b[0mimport_module\u001b[0m\u001b[1;33m(\u001b[0m\u001b[1;34m'_internals'\u001b[0m\u001b[1;33m)\u001b[0m\u001b[1;33m\u001b[0m\u001b[1;33m\u001b[0m\u001b[0m\n\u001b[0m\u001b[0;32m     42\u001b[0m     \u001b[0m_internals\u001b[0m \u001b[1;33m=\u001b[0m \u001b[0mswig_import_helper\u001b[0m\u001b[1;33m(\u001b[0m\u001b[1;33m)\u001b[0m\u001b[1;33m\u001b[0m\u001b[1;33m\u001b[0m\u001b[0m\n",
      "\u001b[1;32m~\\AppData\\Local\\Continuum\\anaconda3\\lib\\importlib\\__init__.py\u001b[0m in \u001b[0;36mimport_module\u001b[1;34m(name, package)\u001b[0m\n\u001b[0;32m    126\u001b[0m             \u001b[0mlevel\u001b[0m \u001b[1;33m+=\u001b[0m \u001b[1;36m1\u001b[0m\u001b[1;33m\u001b[0m\u001b[1;33m\u001b[0m\u001b[0m\n\u001b[1;32m--> 127\u001b[1;33m     \u001b[1;32mreturn\u001b[0m \u001b[0m_bootstrap\u001b[0m\u001b[1;33m.\u001b[0m\u001b[0m_gcd_import\u001b[0m\u001b[1;33m(\u001b[0m\u001b[0mname\u001b[0m\u001b[1;33m[\u001b[0m\u001b[0mlevel\u001b[0m\u001b[1;33m:\u001b[0m\u001b[1;33m]\u001b[0m\u001b[1;33m,\u001b[0m \u001b[0mpackage\u001b[0m\u001b[1;33m,\u001b[0m \u001b[0mlevel\u001b[0m\u001b[1;33m)\u001b[0m\u001b[1;33m\u001b[0m\u001b[1;33m\u001b[0m\u001b[0m\n\u001b[0m\u001b[0;32m    128\u001b[0m \u001b[1;33m\u001b[0m\u001b[0m\n",
      "\u001b[1;31mModuleNotFoundError\u001b[0m: No module named '_internals'",
      "\nDuring handling of the above exception, another exception occurred:\n",
      "\u001b[1;31mImportError\u001b[0m                               Traceback (most recent call last)",
      "\u001b[1;32m<ipython-input-25-82e3382a704d>\u001b[0m in \u001b[0;36m<module>\u001b[1;34m\u001b[0m\n\u001b[1;32m----> 1\u001b[1;33m \u001b[1;32mimport\u001b[0m \u001b[0mpdblp\u001b[0m\u001b[1;33m\u001b[0m\u001b[1;33m\u001b[0m\u001b[0m\n\u001b[0m\u001b[0;32m      2\u001b[0m \u001b[0mcon\u001b[0m \u001b[1;33m=\u001b[0m \u001b[0mpdblp\u001b[0m\u001b[1;33m.\u001b[0m\u001b[0mBCon\u001b[0m\u001b[1;33m(\u001b[0m\u001b[0mdebug\u001b[0m\u001b[1;33m=\u001b[0m\u001b[1;32mTrue\u001b[0m\u001b[1;33m,\u001b[0m \u001b[0mport\u001b[0m\u001b[1;33m=\u001b[0m\u001b[1;36m8194\u001b[0m\u001b[1;33m,\u001b[0m \u001b[0mtimeout\u001b[0m\u001b[1;33m=\u001b[0m\u001b[1;36m5000\u001b[0m\u001b[1;33m)\u001b[0m\u001b[1;33m\u001b[0m\u001b[1;33m\u001b[0m\u001b[0m\n\u001b[0;32m      3\u001b[0m \u001b[0mcon\u001b[0m\u001b[1;33m.\u001b[0m\u001b[0mstart\u001b[0m\u001b[1;33m(\u001b[0m\u001b[1;33m)\u001b[0m\u001b[1;33m\u001b[0m\u001b[1;33m\u001b[0m\u001b[0m\n",
      "\u001b[1;32m~\\AppData\\Local\\Continuum\\anaconda3\\lib\\site-packages\\pdblp\\__init__.py\u001b[0m in \u001b[0;36m<module>\u001b[1;34m\u001b[0m\n\u001b[1;32m----> 1\u001b[1;33m \u001b[1;32mfrom\u001b[0m \u001b[1;33m.\u001b[0m\u001b[0mpdblp\u001b[0m \u001b[1;32mimport\u001b[0m \u001b[0mBCon\u001b[0m  \u001b[1;31m# NOQA\u001b[0m\u001b[1;33m\u001b[0m\u001b[1;33m\u001b[0m\u001b[0m\n\u001b[0m\u001b[0;32m      2\u001b[0m \u001b[1;32mfrom\u001b[0m \u001b[1;33m.\u001b[0m\u001b[0mpdblp\u001b[0m \u001b[1;32mimport\u001b[0m \u001b[0mbopen\u001b[0m  \u001b[1;31m# NOQA\u001b[0m\u001b[1;33m\u001b[0m\u001b[1;33m\u001b[0m\u001b[0m\n\u001b[0;32m      3\u001b[0m \u001b[1;32mfrom\u001b[0m \u001b[1;33m.\u001b[0m\u001b[0m_version\u001b[0m \u001b[1;32mimport\u001b[0m \u001b[0m__version__\u001b[0m  \u001b[1;31m# NOQA\u001b[0m\u001b[1;33m\u001b[0m\u001b[1;33m\u001b[0m\u001b[0m\n",
      "\u001b[1;32m~\\AppData\\Local\\Continuum\\anaconda3\\lib\\site-packages\\pdblp\\pdblp.py\u001b[0m in \u001b[0;36m<module>\u001b[1;34m\u001b[0m\n\u001b[0;32m      2\u001b[0m \u001b[1;32mimport\u001b[0m \u001b[0mcontextlib\u001b[0m\u001b[1;33m\u001b[0m\u001b[1;33m\u001b[0m\u001b[0m\n\u001b[0;32m      3\u001b[0m \u001b[1;33m\u001b[0m\u001b[0m\n\u001b[1;32m----> 4\u001b[1;33m \u001b[1;32mimport\u001b[0m \u001b[0mblpapi\u001b[0m\u001b[1;33m\u001b[0m\u001b[1;33m\u001b[0m\u001b[0m\n\u001b[0m\u001b[0;32m      5\u001b[0m \u001b[1;32mimport\u001b[0m \u001b[0mnumpy\u001b[0m \u001b[1;32mas\u001b[0m \u001b[0mnp\u001b[0m\u001b[1;33m\u001b[0m\u001b[1;33m\u001b[0m\u001b[0m\n\u001b[0;32m      6\u001b[0m \u001b[1;32mimport\u001b[0m \u001b[0mpandas\u001b[0m \u001b[1;32mas\u001b[0m \u001b[0mpd\u001b[0m\u001b[1;33m\u001b[0m\u001b[1;33m\u001b[0m\u001b[0m\n",
      "\u001b[1;32m~\\AppData\\Local\\Continuum\\anaconda3\\lib\\site-packages\\blpapi\\__init__.py\u001b[0m in \u001b[0;36m<module>\u001b[1;34m\u001b[0m\n\u001b[0;32m      9\u001b[0m     \u001b[1;31m# shared object for the C++ library. Provide a meaningful error message.\u001b[0m\u001b[1;33m\u001b[0m\u001b[1;33m\u001b[0m\u001b[1;33m\u001b[0m\u001b[0m\n\u001b[0;32m     10\u001b[0m     \u001b[1;32mfrom\u001b[0m \u001b[1;33m.\u001b[0m\u001b[0mdebug\u001b[0m \u001b[1;32mimport\u001b[0m \u001b[0mdebug_load_error\u001b[0m\u001b[1;33m\u001b[0m\u001b[1;33m\u001b[0m\u001b[0m\n\u001b[1;32m---> 11\u001b[1;33m     \u001b[1;32mraise\u001b[0m \u001b[0mdebug_load_error\u001b[0m\u001b[1;33m(\u001b[0m\u001b[0merror\u001b[0m\u001b[1;33m)\u001b[0m\u001b[1;33m\u001b[0m\u001b[1;33m\u001b[0m\u001b[0m\n\u001b[0m\u001b[0;32m     12\u001b[0m \u001b[1;33m\u001b[0m\u001b[0m\n\u001b[0;32m     13\u001b[0m \u001b[1;32mfrom\u001b[0m \u001b[1;33m.\u001b[0m\u001b[0mabstractsession\u001b[0m \u001b[1;32mimport\u001b[0m \u001b[0mAbstractSession\u001b[0m\u001b[1;33m\u001b[0m\u001b[1;33m\u001b[0m\u001b[0m\n",
      "\u001b[1;31mImportError\u001b[0m: \n---------------------------- ENVIRONMENT -----------------------------\nPlatform: Windows-10-10.0.18362-SP0\nArchitecture: ('64bit', 'WindowsPE')\nPython: 3.7.3 (default, Apr 24 2019, 15:29:51) [MSC v.1915 64 bit (AMD64)]\nPython implementation: CPython\n\nblpapi 64-bit will be loaded from: \"C:\\blp\\DAPI\\blpapi3_64.dll\"\nblpapi 32-bit will be loaded from: \"C:\\blp\\DAPI\\blpapi3_32.dll\"\nSystem PATH: (* marks locations where blpapi was found)\n    \"C:\\Users\\maya.benowitz\\AppData\\Local\\Continuum\\anaconda3\"\n    \"C:\\Users\\maya.benowitz\\AppData\\Local\\Continuum\\anaconda3\\Library\\mingw-w64\\bin\"\n    \"C:\\Users\\maya.benowitz\\AppData\\Local\\Continuum\\anaconda3\\Library\\usr\\bin\"\n    \"C:\\Users\\maya.benowitz\\AppData\\Local\\Continuum\\anaconda3\\Library\\bin\"\n    \"C:\\Users\\maya.benowitz\\AppData\\Local\\Continuum\\anaconda3\\Scripts\"\n    \"C:\\WINDOWS\\system32\"\n    \"C:\\WINDOWS\"\n    \"C:\\WINDOWS\\System32\\Wbem\"\n    \"C:\\WINDOWS\\System32\\WindowsPowerShell\\v1.0\\\"\n    \"C:\\Program Files\\Docker\\Docker\\resources\\bin\"\n    \"C:\\ProgramData\\DockerDesktop\\version-bin\"\n    \"C:\\Users\\maya.benowitz\\AppData\\Local\\Microsoft\\WindowsApps\"\n  * \"C:\\blp\\DAPI\"\n    \"C:\\blp\\DAPI\\DDE\"\n    \"C:\\Users\\maya.benowitz\\AppData\\Local\\atom\\bin\"\n\nblpapi package at: \"C:\\Users\\maya.benowitz\\AppData\\Local\\Continuum\\anaconda3\\lib\\site-packages\"\n\nCurrent directory: \"C:\\Users\\maya.benowitz\\Documents\\projects\\hedgepy\\notebooks\"\n\n----------------------------------------------------------------------\nNo module named '_internals'\n\nMismatch between C++ and Python SDK libraries.\n\nPython SDK version    3.14.0\nFound C++ SDK version 3.12.3.1\n\nDownload and install the latest C++ SDK from:\n\n    http://www.bloomberg.com/professional/api-library\n\nIf a recent version of the C++ SDK is already installed, please ensure that the\npath to the library is added to PATH before entering the interpreter.\n\n\n"
     ]
    }
   ],
   "source": [
    "import pdblp\n",
    "con = pdblp.BCon(debug=True, port=8194, timeout=5000)\n",
    "con.start()"
   ]
  }
 ],
 "metadata": {
  "kernelspec": {
   "display_name": "Python 3",
   "language": "python",
   "name": "python3"
  },
  "language_info": {
   "codemirror_mode": {
    "name": "ipython",
    "version": 3
   },
   "file_extension": ".py",
   "mimetype": "text/x-python",
   "name": "python",
   "nbconvert_exporter": "python",
   "pygments_lexer": "ipython3",
   "version": "3.7.3"
  }
 },
 "nbformat": 4,
 "nbformat_minor": 2
}
